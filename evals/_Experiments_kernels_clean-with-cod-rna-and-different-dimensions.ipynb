{
 "cells": [
  {
   "cell_type": "code",
   "execution_count": 1,
   "metadata": {
    "scrolled": true
   },
   "outputs": [],
   "source": [
    "%load_ext autoreload\n",
    "%autoreload 2"
   ]
  },
  {
   "cell_type": "code",
   "execution_count": 2,
   "metadata": {},
   "outputs": [],
   "source": [
    "import numpy as np\n",
    "from numpy import linalg\n",
    "from scipy.optimize import linprog, minimize_scalar\n",
    "from scipy.stats import norm, chi2\n",
    "\n",
    "import matplotlib.pyplot as plt\n",
    "%matplotlib inline\n",
    "\n",
    "from matplotlib import rc\n",
    "rc('font',**{'family':'sans-serif','sans-serif':['Helvetica']})\n",
    "rc('text', usetex=True)"
   ]
  },
  {
   "cell_type": "code",
   "execution_count": 3,
   "metadata": {},
   "outputs": [],
   "source": [
    "import sys\n",
    "import os\n",
    "sys.path.append('../utils')\n",
    "from algorithms_1 import  Bisection, GD, Ellipsoid, GD_m, AGD_m, AGD, LIBRARY, LIBRARY_m\n",
    "from scipy.optimize import minimize\n",
    "import time\n",
    "import math"
   ]
  },
  {
   "cell_type": "code",
   "execution_count": 4,
   "metadata": {},
   "outputs": [],
   "source": [
    "from sklearn import datasets\n",
    "my_data = datasets.load_svmlight_file(\"cod-rna.txt\")"
   ]
  },
  {
   "cell_type": "code",
   "execution_count": 5,
   "metadata": {},
   "outputs": [],
   "source": [
    "data0 = my_data[0]"
   ]
  },
  {
   "cell_type": "code",
   "execution_count": 6,
   "metadata": {},
   "outputs": [
    {
     "name": "stdout",
     "output_type": "stream",
     "text": [
      "2361.770831346512\n"
     ]
    }
   ],
   "source": [
    "dim = 8         #m\n",
    "n_p = 4000      #m+\n",
    "n_n = 4000\n",
    "n = n_n + n_p   #m-\n",
    "p = 3           #p\n",
    "data_p = data0[:n_p].todense()\n",
    "data_n = data0[-n_p:].todense()\n",
    "data = np.vstack((data_p,data_n))\n",
    "\n",
    "sigma = 10**np.linspace(-1., 2., p)\n",
    "a = np.ones(n)\n",
    "a[0:n_p] = np.ones(n_p) / n_p\n",
    "a[n_p:n] = -np.ones(n_n) / n_n\n",
    "\n",
    "G = np.zeros((p, n, n))\n",
    "G_tilde = np.zeros((p, n, n))\n",
    "P =  - 1. / n * np.outer(np.ones(n),np.ones(n)) + np.eye(n) \n",
    "r = np.zeros(p)\n",
    "\n",
    "t0 = time.time()\n",
    "for i in range(p):\n",
    "    for j in range(n):\n",
    "        for k in range(n):\n",
    "            G[i,j,k] = np.exp(- np.linalg.norm(data[j] - data[k])**2 / sigma[i]**2)\n",
    "\n",
    "\n",
    "for i in range(p):\n",
    "    G_tilde[i] = P.dot(G[i].dot(P))\n",
    "    r[i] = np.trace(G_tilde[i])\n",
    "print(time.time() -  t0)"
   ]
  },
  {
   "cell_type": "code",
   "execution_count": 7,
   "metadata": {},
   "outputs": [],
   "source": [
    "import sys\n",
    "import numpy as np\n",
    "import cvxpy as cp\n",
    "import time\n",
    "import mosek\n",
    "from collections import OrderedDict"
   ]
  },
  {
   "cell_type": "code",
   "execution_count": 8,
   "metadata": {
    "scrolled": false
   },
   "outputs": [
    {
     "name": "stdout",
     "output_type": "stream",
     "text": [
      "0.014788997437451074\n",
      "0.06093207656189058\n",
      "0.43435598439403716\n"
     ]
    }
   ],
   "source": [
    "A = np.zeros((p , n, n ))\n",
    "b =  np.zeros((p, n ))\n",
    "c =  np.zeros(p)\n",
    "\n",
    "a_obj = a\n",
    "lambda_obj = 1e-4\n",
    "t_obj = 5e-8\n",
    "params = []\n",
    "\n",
    "for i in range(p):\n",
    "    A[i] = 1./ r[i] * G_tilde[i]\n",
    "    params.append((A[i]))\n",
    "    print(np.linalg.norm(A[i]))\n",
    "    \n",
    "params.append((a_obj,lambda_obj,t_obj))"
   ]
  },
  {
   "cell_type": "code",
   "execution_count": 9,
   "metadata": {},
   "outputs": [],
   "source": [
    "# Objective function\n",
    "\n",
    "def f_objective4(beta, x_p, params):\n",
    "    nn = beta.size\n",
    "    a_obj, lambda_obj, t_obj = params[-1]\n",
    "    return 0.25 * beta.dot(beta) -   beta.dot(a_obj) +  0.25 / lambda_obj * t_obj \n",
    "\n",
    "def f_grad4(beta, x_p, params):\n",
    "    nn = beta.size\n",
    "    a_obj, lambda_obj, t_obj = params[-1]\n",
    "    f_grad_vector = 0.5 * beta -  a_obj\n",
    "    return f_grad_vector\n",
    "\n",
    "# Constraints \n",
    "\n",
    "def h_constraint4(beta, params):\n",
    "    m = len(params) - 1\n",
    "    h_con = np.zeros(m)\n",
    "    a_obj, lambda_obj, t_obj = params[-1]\n",
    "#     print(\"beta\",beta,\"m\",m)\n",
    "    for i in range(m):\n",
    "        A = params[i]\n",
    "        h_con[i] =  beta.dot(A.dot(beta)) -  t_obj\n",
    "    return h_con\n",
    "\n",
    "def h_grad4(beta, params):\n",
    "    nn = beta.size\n",
    "    m = len(params) - 1\n",
    "    dh = np.zeros((m, nn))\n",
    "    for i in range(m):\n",
    "        A = params[i]\n",
    "        #print(A,b,c, dh[i])\n",
    "        dh[i] = 2 * A.dot(beta)\n",
    "    #print(1)\n",
    "    return dh"
   ]
  },
  {
   "cell_type": "code",
   "execution_count": 54,
   "metadata": {},
   "outputs": [
    {
     "name": "stdout",
     "output_type": "stream",
     "text": [
      "crit_reached\n",
      "57\n",
      "[197.12718423   4.37123757 148.30888346] -2.2213487328810266e-05 1216.944081544876\n"
     ]
    }
   ],
   "source": [
    "# Fast Projections, eps = 10-8\n",
    "x_0 = np.zeros(n)\n",
    "x_p = np.zeros(n)\n",
    "l_up = 500.\n",
    "epsilon = 1e-8\n",
    "mu = 0.5\n",
    "t_obj = 5e-8\n",
    "L =  0.5 \n",
    "learning_rate = 1 / 2 / L\n",
    "K_max = 2500\n",
    "T = 100\n",
    "t0 = time.time()\n",
    "x_g, l_g, v_g = Ellipsoid(l_up, epsilon, x_0, x_p, \n",
    "                             L, T, AGD_m, \n",
    "                             h_grad4, h_constraint4, \n",
    "                             learning_rate, params, \n",
    "                             f_objective4, f_grad4, \n",
    "                          K_max = K_max, mu = mu, \n",
    "                          G = 0.001)\n",
    "time_ellipsoid = time.time() - t0\n",
    "print(l_g, v_g, time_ellipsoid)"
   ]
  },
  {
   "cell_type": "code",
   "execution_count": 52,
   "metadata": {},
   "outputs": [
    {
     "name": "stdout",
     "output_type": "stream",
     "text": [
      "crit_reached\n",
      "32\n",
      "[208.30688522   5.07345614 142.98871411] -2.2535031338787265e-05 519.7166244983673\n"
     ]
    }
   ],
   "source": [
    "# Fast Projections, eps = 10-7\n",
    "x_0 = np.zeros(n)\n",
    "x_p = np.zeros(n)\n",
    "l_up = 500.\n",
    "epsilon = 1e-7\n",
    "mu = 0.5\n",
    "t_obj = 5e-8\n",
    "L =  0.5\n",
    "learning_rate = 1 / 2 / L\n",
    "K_max = 2500\n",
    "T = 50\n",
    "t0 = time.time()\n",
    "x_g, l_g, v_g = Ellipsoid(l_up, epsilon, x_0, x_p, \n",
    "                             L, T, AGD_m, \n",
    "                             h_grad4, h_constraint4, \n",
    "                             learning_rate, params, \n",
    "                             f_objective4, f_grad4, \n",
    "                             K_max = K_max, mu = mu, \n",
    "                             G = 0.001)\n",
    "time_ellipsoid = time.time() - t0\n",
    "print(l_g, v_g, time_ellipsoid)"
   ]
  },
  {
   "cell_type": "code",
   "execution_count": 10,
   "metadata": {},
   "outputs": [
    {
     "name": "stdout",
     "output_type": "stream",
     "text": [
      "48\n",
      "[499.58813849  44.60433299 165.00396218] -0.00010982592095649772 338.0227544307709\n"
     ]
    }
   ],
   "source": [
    "# Fast Projections, eps = 10-6\n",
    "x_0 = np.zeros(n)\n",
    "x_p = np.zeros(n)\n",
    "l_up = 500.\n",
    "epsilon = 1e-6\n",
    "mu = 0.5\n",
    "t_obj = 5e-8\n",
    "L =  0.5 \n",
    "learning_rate = 1 / 2 / L\n",
    "K_max = 2500\n",
    "T = 50\n",
    "t0 = time.time()\n",
    "x_g, l_g, v_g = Ellipsoid(l_up, epsilon, x_0, x_p, \n",
    "                             L, T, AGD_m, \n",
    "                             h_grad4, h_constraint4, \n",
    "                             learning_rate, params, \n",
    "                             f_objective4, f_grad4, K_max = K_max, mu = mu, G = 0.001)\n",
    "time_ellipsoid = time.time() - t0\n",
    "print(l_g, v_g, time_ellipsoid)"
   ]
  },
  {
   "cell_type": "markdown",
   "metadata": {},
   "source": [
    "## MOSEK"
   ]
  },
  {
   "cell_type": "code",
   "execution_count": 11,
   "metadata": {},
   "outputs": [],
   "source": [
    "def Solve_Mosek_3(a_obj, lambda_obj, A, tol):\n",
    "    beta = cp.Variable((n))\n",
    "    t = 5e-8\n",
    "    a_cp = cp.Constant(a_obj)\n",
    "    \n",
    "\n",
    "    constraints = [\n",
    "         cp.quad_form(beta, A[0]) -  t <= 0,\n",
    "         cp.quad_form(beta, A[1]) -  t <= 0,\n",
    "         cp.quad_form(beta, A[2]) -  t <= 0\n",
    "    ]\n",
    "    \n",
    "    objective = cp.Minimize(0.25 * cp.norm(beta) ** 2 - beta @ a_cp + 0.25 * t / lambda_obj)\n",
    "\n",
    "    prob = cp.Problem(objective, constraints)\n",
    "    prob.solve(solver = cp.MOSEK, mosek_params = {mosek.dparam.intpnt_co_tol_rel_gap: tol,\n",
    "                              mosek.dparam.intpnt_co_tol_dfeas: tol,\n",
    "                              mosek.dparam.intpnt_co_tol_infeas: tol * 1.0e-2,\n",
    "                              mosek.dparam.intpnt_co_tol_mu_red: tol,\n",
    "                              mosek.dparam.intpnt_co_tol_pfeas: tol,\n",
    "                              })\n",
    "\n",
    "    return prob"
   ]
  },
  {
   "cell_type": "code",
   "execution_count": 40,
   "metadata": {
    "scrolled": true
   },
   "outputs": [
    {
     "name": "stdout",
     "output_type": "stream",
     "text": [
      " dual:  {260: array([195.64394114]), 267: array([8.76804549]), 274: array([145.031198])} value:  -2.2260651924760425e-05 time: 1302.0883221626282\n"
     ]
    }
   ],
   "source": [
    "# MOSEK (small original problem with fixed t, n=5500,m=3, eps = 10-8)\n",
    "tol = 1.0e-8\n",
    "t0 = time.time()\n",
    "prob = Solve_Mosek_3(a_obj, lambda_obj, A, tol)\n",
    "time_mosek = time.time() - t0\n",
    "primal = prob.solution.primal_vars\n",
    "prob_d = prob.solution.dual_vars\n",
    "val = prob.value\n",
    "print( \" dual: \", prob_d, \"value: \", val, \"time:\", time_mosek)"
   ]
  },
  {
   "cell_type": "code",
   "execution_count": 48,
   "metadata": {},
   "outputs": [
    {
     "name": "stdout",
     "output_type": "stream",
     "text": [
      " dual:  {895: array([227.23238466]), 902: array([32.20507064]), 909: array([89.63268749])} value:  -2.4932902869652845e-05 time: 1062.1518244743347\n"
     ]
    }
   ],
   "source": [
    "# MOSEK (small original problem with fixed t, n=5500,m=3, eps = 10-7)\n",
    "tol = 1.0e-7\n",
    "t0 = time.time()\n",
    "prob = Solve_Mosek_3(a_obj, lambda_obj, A, tol)\n",
    "time_mosek = time.time() - t0\n",
    "primal = prob.solution.primal_vars\n",
    "prob_d = prob.solution.dual_vars\n",
    "val = prob.value\n",
    "print( \" dual: \", prob_d, \"value: \", val, \"time:\", time_mosek)"
   ]
  },
  {
   "cell_type": "code",
   "execution_count": 12,
   "metadata": {},
   "outputs": [
    {
     "ename": "Error",
     "evalue": "rescode.err_license_expired(1001): The license has expired.",
     "output_type": "error",
     "traceback": [
      "\u001b[0;31m---------------------------------------------------------------------------\u001b[0m",
      "\u001b[0;31mError\u001b[0m                                     Traceback (most recent call last)",
      "\u001b[0;32m<ipython-input-12-ad708e865005>\u001b[0m in \u001b[0;36m<module>\u001b[0;34m\u001b[0m\n\u001b[1;32m      2\u001b[0m \u001b[0mtol\u001b[0m \u001b[0;34m=\u001b[0m \u001b[0;36m1.0e-6\u001b[0m\u001b[0;34m\u001b[0m\u001b[0;34m\u001b[0m\u001b[0m\n\u001b[1;32m      3\u001b[0m \u001b[0mt0\u001b[0m \u001b[0;34m=\u001b[0m \u001b[0mtime\u001b[0m\u001b[0;34m.\u001b[0m\u001b[0mtime\u001b[0m\u001b[0;34m(\u001b[0m\u001b[0;34m)\u001b[0m\u001b[0;34m\u001b[0m\u001b[0;34m\u001b[0m\u001b[0m\n\u001b[0;32m----> 4\u001b[0;31m \u001b[0mprob\u001b[0m \u001b[0;34m=\u001b[0m \u001b[0mSolve_Mosek_3\u001b[0m\u001b[0;34m(\u001b[0m\u001b[0ma_obj\u001b[0m\u001b[0;34m,\u001b[0m \u001b[0mlambda_obj\u001b[0m\u001b[0;34m,\u001b[0m \u001b[0mA\u001b[0m\u001b[0;34m,\u001b[0m \u001b[0mtol\u001b[0m\u001b[0;34m)\u001b[0m\u001b[0;34m\u001b[0m\u001b[0;34m\u001b[0m\u001b[0m\n\u001b[0m\u001b[1;32m      5\u001b[0m \u001b[0mtime_mosek\u001b[0m \u001b[0;34m=\u001b[0m \u001b[0mtime\u001b[0m\u001b[0;34m.\u001b[0m\u001b[0mtime\u001b[0m\u001b[0;34m(\u001b[0m\u001b[0;34m)\u001b[0m \u001b[0;34m-\u001b[0m \u001b[0mt0\u001b[0m\u001b[0;34m\u001b[0m\u001b[0;34m\u001b[0m\u001b[0m\n\u001b[1;32m      6\u001b[0m \u001b[0mprimal\u001b[0m \u001b[0;34m=\u001b[0m \u001b[0mprob\u001b[0m\u001b[0;34m.\u001b[0m\u001b[0msolution\u001b[0m\u001b[0;34m.\u001b[0m\u001b[0mprimal_vars\u001b[0m\u001b[0;34m\u001b[0m\u001b[0;34m\u001b[0m\u001b[0m\n",
      "\u001b[0;32m<ipython-input-11-784722b7a5c2>\u001b[0m in \u001b[0;36mSolve_Mosek_3\u001b[0;34m(a_obj, lambda_obj, A, tol)\u001b[0m\n\u001b[1;32m     14\u001b[0m \u001b[0;34m\u001b[0m\u001b[0m\n\u001b[1;32m     15\u001b[0m     \u001b[0mprob\u001b[0m \u001b[0;34m=\u001b[0m \u001b[0mcp\u001b[0m\u001b[0;34m.\u001b[0m\u001b[0mProblem\u001b[0m\u001b[0;34m(\u001b[0m\u001b[0mobjective\u001b[0m\u001b[0;34m,\u001b[0m \u001b[0mconstraints\u001b[0m\u001b[0;34m)\u001b[0m\u001b[0;34m\u001b[0m\u001b[0;34m\u001b[0m\u001b[0m\n\u001b[0;32m---> 16\u001b[0;31m     prob.solve(solver = cp.MOSEK, mosek_params = {mosek.dparam.intpnt_co_tol_rel_gap: tol,\n\u001b[0m\u001b[1;32m     17\u001b[0m                               \u001b[0mmosek\u001b[0m\u001b[0;34m.\u001b[0m\u001b[0mdparam\u001b[0m\u001b[0;34m.\u001b[0m\u001b[0mintpnt_co_tol_dfeas\u001b[0m\u001b[0;34m:\u001b[0m \u001b[0mtol\u001b[0m\u001b[0;34m,\u001b[0m\u001b[0;34m\u001b[0m\u001b[0;34m\u001b[0m\u001b[0m\n\u001b[1;32m     18\u001b[0m                               \u001b[0mmosek\u001b[0m\u001b[0;34m.\u001b[0m\u001b[0mdparam\u001b[0m\u001b[0;34m.\u001b[0m\u001b[0mintpnt_co_tol_infeas\u001b[0m\u001b[0;34m:\u001b[0m \u001b[0mtol\u001b[0m \u001b[0;34m*\u001b[0m \u001b[0;36m1.0e-2\u001b[0m\u001b[0;34m,\u001b[0m\u001b[0;34m\u001b[0m\u001b[0;34m\u001b[0m\u001b[0m\n",
      "\u001b[0;32m/scratch/home/aelphy/py38/lib/python3.8/site-packages/cvxpy/problems/problem.py\u001b[0m in \u001b[0;36msolve\u001b[0;34m(self, *args, **kwargs)\u001b[0m\n\u001b[1;32m    288\u001b[0m         \u001b[0;32melse\u001b[0m\u001b[0;34m:\u001b[0m\u001b[0;34m\u001b[0m\u001b[0;34m\u001b[0m\u001b[0m\n\u001b[1;32m    289\u001b[0m             \u001b[0msolve_func\u001b[0m \u001b[0;34m=\u001b[0m \u001b[0mProblem\u001b[0m\u001b[0;34m.\u001b[0m\u001b[0m_solve\u001b[0m\u001b[0;34m\u001b[0m\u001b[0;34m\u001b[0m\u001b[0m\n\u001b[0;32m--> 290\u001b[0;31m         \u001b[0;32mreturn\u001b[0m \u001b[0msolve_func\u001b[0m\u001b[0;34m(\u001b[0m\u001b[0mself\u001b[0m\u001b[0;34m,\u001b[0m \u001b[0;34m*\u001b[0m\u001b[0margs\u001b[0m\u001b[0;34m,\u001b[0m \u001b[0;34m**\u001b[0m\u001b[0mkwargs\u001b[0m\u001b[0;34m)\u001b[0m\u001b[0;34m\u001b[0m\u001b[0;34m\u001b[0m\u001b[0m\n\u001b[0m\u001b[1;32m    291\u001b[0m \u001b[0;34m\u001b[0m\u001b[0m\n\u001b[1;32m    292\u001b[0m     \u001b[0;34m@\u001b[0m\u001b[0mclassmethod\u001b[0m\u001b[0;34m\u001b[0m\u001b[0;34m\u001b[0m\u001b[0m\n",
      "\u001b[0;32m/scratch/home/aelphy/py38/lib/python3.8/site-packages/cvxpy/problems/problem.py\u001b[0m in \u001b[0;36m_solve\u001b[0;34m(self, solver, warm_start, verbose, parallel, gp, qcp, **kwargs)\u001b[0m\n\u001b[1;32m    569\u001b[0m         data, solving_inverse_data = self._solving_chain.apply(\n\u001b[1;32m    570\u001b[0m             self._intermediate_problem)\n\u001b[0;32m--> 571\u001b[0;31m         solution = self._solving_chain.solve_via_data(\n\u001b[0m\u001b[1;32m    572\u001b[0m             self, data, warm_start, verbose, kwargs)\n\u001b[1;32m    573\u001b[0m         \u001b[0mfull_chain\u001b[0m \u001b[0;34m=\u001b[0m \u001b[0mself\u001b[0m\u001b[0;34m.\u001b[0m\u001b[0m_solving_chain\u001b[0m\u001b[0;34m.\u001b[0m\u001b[0mprepend\u001b[0m\u001b[0;34m(\u001b[0m\u001b[0mself\u001b[0m\u001b[0;34m.\u001b[0m\u001b[0m_intermediate_chain\u001b[0m\u001b[0;34m)\u001b[0m\u001b[0;34m\u001b[0m\u001b[0;34m\u001b[0m\u001b[0m\n",
      "\u001b[0;32m/scratch/home/aelphy/py38/lib/python3.8/site-packages/cvxpy/reductions/solvers/solving_chain.py\u001b[0m in \u001b[0;36msolve_via_data\u001b[0;34m(self, problem, data, warm_start, verbose, solver_opts)\u001b[0m\n\u001b[1;32m    193\u001b[0m             \u001b[0ma\u001b[0m \u001b[0mSolution\u001b[0m \u001b[0mobject\u001b[0m\u001b[0;34m.\u001b[0m\u001b[0;34m\u001b[0m\u001b[0;34m\u001b[0m\u001b[0m\n\u001b[1;32m    194\u001b[0m         \"\"\"\n\u001b[0;32m--> 195\u001b[0;31m         return self.solver.solve_via_data(data, warm_start, verbose,\n\u001b[0m\u001b[1;32m    196\u001b[0m                                           solver_opts, problem._solver_cache)\n",
      "\u001b[0;32m/scratch/home/aelphy/py38/lib/python3.8/site-packages/cvxpy/reductions/solvers/conic_solvers/mosek_conif.py\u001b[0m in \u001b[0;36msolve_via_data\u001b[0;34m(self, data, warm_start, verbose, solver_opts, solver_cache)\u001b[0m\n\u001b[1;32m    416\u001b[0m         \u001b[0;32mif\u001b[0m \u001b[0msave_file\u001b[0m\u001b[0;34m:\u001b[0m\u001b[0;34m\u001b[0m\u001b[0;34m\u001b[0m\u001b[0m\n\u001b[1;32m    417\u001b[0m             \u001b[0mtask\u001b[0m\u001b[0;34m.\u001b[0m\u001b[0mwritedata\u001b[0m\u001b[0;34m(\u001b[0m\u001b[0msave_file\u001b[0m\u001b[0;34m)\u001b[0m\u001b[0;34m\u001b[0m\u001b[0;34m\u001b[0m\u001b[0m\n\u001b[0;32m--> 418\u001b[0;31m         \u001b[0mtask\u001b[0m\u001b[0;34m.\u001b[0m\u001b[0moptimize\u001b[0m\u001b[0;34m(\u001b[0m\u001b[0;34m)\u001b[0m\u001b[0;34m\u001b[0m\u001b[0;34m\u001b[0m\u001b[0m\n\u001b[0m\u001b[1;32m    419\u001b[0m \u001b[0;34m\u001b[0m\u001b[0m\n\u001b[1;32m    420\u001b[0m         \u001b[0;32mif\u001b[0m \u001b[0mverbose\u001b[0m\u001b[0;34m:\u001b[0m\u001b[0;34m\u001b[0m\u001b[0;34m\u001b[0m\u001b[0m\n",
      "\u001b[0;32m/scratch/home/aelphy/py38/lib/python3.8/site-packages/mosek/__init__.py\u001b[0m in \u001b[0;36moptimize\u001b[0;34m(self)\u001b[0m\n\u001b[1;32m   7625\u001b[0m       \u001b[0;32mif\u001b[0m \u001b[0mres\u001b[0m \u001b[0;34m!=\u001b[0m \u001b[0;36m0\u001b[0m\u001b[0;34m:\u001b[0m\u001b[0;34m\u001b[0m\u001b[0;34m\u001b[0m\u001b[0m\n\u001b[1;32m   7626\u001b[0m         \u001b[0mresult\u001b[0m\u001b[0;34m,\u001b[0m\u001b[0mmsg\u001b[0m \u001b[0;34m=\u001b[0m \u001b[0mself\u001b[0m\u001b[0;34m.\u001b[0m\u001b[0m__getlasterror\u001b[0m\u001b[0;34m(\u001b[0m\u001b[0mres\u001b[0m\u001b[0;34m)\u001b[0m\u001b[0;34m\u001b[0m\u001b[0;34m\u001b[0m\u001b[0m\n\u001b[0;32m-> 7627\u001b[0;31m         \u001b[0;32mraise\u001b[0m \u001b[0mError\u001b[0m\u001b[0;34m(\u001b[0m\u001b[0mrescode\u001b[0m\u001b[0;34m(\u001b[0m\u001b[0mres\u001b[0m\u001b[0;34m)\u001b[0m\u001b[0;34m,\u001b[0m\u001b[0mmsg\u001b[0m\u001b[0;34m)\u001b[0m\u001b[0;34m\u001b[0m\u001b[0;34m\u001b[0m\u001b[0m\n\u001b[0m\u001b[1;32m   7628\u001b[0m       \u001b[0m__arg1_trmcode_return_value\u001b[0m \u001b[0;34m=\u001b[0m \u001b[0mresargs\u001b[0m\u001b[0;34m\u001b[0m\u001b[0;34m\u001b[0m\u001b[0m\n\u001b[1;32m   7629\u001b[0m       \u001b[0m__arg1_trmcode_return_value\u001b[0m \u001b[0;34m=\u001b[0m \u001b[0mrescode\u001b[0m\u001b[0;34m(\u001b[0m\u001b[0m__arg1_trmcode_return_value\u001b[0m\u001b[0;34m)\u001b[0m\u001b[0;34m\u001b[0m\u001b[0;34m\u001b[0m\u001b[0m\n",
      "\u001b[0;31mError\u001b[0m: rescode.err_license_expired(1001): The license has expired."
     ]
    }
   ],
   "source": [
    "# MOSEK (small original problem with fixed t, n=5500,m=3, eps = 10-6)\n",
    "tol = 1.0e-6\n",
    "t0 = time.time()\n",
    "prob = Solve_Mosek_3(a_obj, lambda_obj, A, tol)\n",
    "time_mosek = time.time() - t0\n",
    "primal = prob.solution.primal_vars\n",
    "prob_d = prob.solution.dual_vars\n",
    "val = prob.value\n",
    "print( \" dual: \", prob_d, \"value: \", val, \"time:\", time_mosek)"
   ]
  },
  {
   "cell_type": "code",
   "execution_count": null,
   "metadata": {},
   "outputs": [],
   "source": []
  }
 ],
 "metadata": {
  "kernelspec": {
   "display_name": "Python 3",
   "language": "python",
   "name": "python3"
  },
  "language_info": {
   "codemirror_mode": {
    "name": "ipython",
    "version": 3
   },
   "file_extension": ".py",
   "mimetype": "text/x-python",
   "name": "python",
   "nbconvert_exporter": "python",
   "pygments_lexer": "ipython3",
   "version": "3.8.5"
  }
 },
 "nbformat": 4,
 "nbformat_minor": 2
}
