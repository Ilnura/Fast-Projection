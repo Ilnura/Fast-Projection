{
 "cells": [
  {
   "cell_type": "code",
   "execution_count": 2,
   "metadata": {
    "scrolled": true
   },
   "outputs": [],
   "source": [
    "%load_ext autoreload\n",
    "%autoreload 2"
   ]
  },
  {
   "cell_type": "code",
   "execution_count": 3,
   "metadata": {},
   "outputs": [],
   "source": [
    "import numpy as np\n",
    "from numpy import linalg\n",
    "from scipy.optimize import linprog, minimize_scalar\n",
    "from scipy.stats import norm, chi2\n",
    "\n",
    "import matplotlib.pyplot as plt\n",
    "%matplotlib inline\n",
    "\n",
    "from matplotlib import rc\n",
    "rc('font',**{'family':'sans-serif','sans-serif':['Helvetica']})\n",
    "rc('text', usetex=True)"
   ]
  },
  {
   "cell_type": "code",
   "execution_count": 97,
   "metadata": {},
   "outputs": [],
   "source": [
    "import sys\n",
    "import os\n",
    "sys.path.append('../utils')\n",
    "from algorithms_1 import  Bisection, GD, Ellipsoid, GD_m, AGD_m, AGD, LIBRARY, LIBRARY_m\n",
    "from scipy.optimize import minimize\n",
    "import time\n",
    "import math"
   ]
  },
  {
   "cell_type": "code",
   "execution_count": 6,
   "metadata": {},
   "outputs": [],
   "source": [
    "from sklearn import datasets\n",
    "my_data = datasets.load_svmlight_file(\"cod-rna.txt\")"
   ]
  },
  {
   "cell_type": "code",
   "execution_count": 7,
   "metadata": {},
   "outputs": [],
   "source": [
    "data0 = my_data[0]"
   ]
  },
  {
   "cell_type": "code",
   "execution_count": 8,
   "metadata": {},
   "outputs": [
    {
     "name": "stdout",
     "output_type": "stream",
     "text": [
      "5172.5951545238495\n"
     ]
    }
   ],
   "source": [
    "dim = 8         #m\n",
    "n_p = 5500      #m+\n",
    "n_n = 5500\n",
    "n = n_n + n_p   #m-\n",
    "p = 3           #p\n",
    "data_p = data0[:5500].todense()\n",
    "data_n = data0[-5500:].todense()\n",
    "data = np.vstack((data_p,data_n))\n",
    "\n",
    "sigma = 10**np.linspace(-1., 2., p)\n",
    "a = np.ones(n)\n",
    "a[0:n_p] = np.ones(n_p) / n_p\n",
    "a[n_p:n] = -np.ones(n_n) / n_n\n",
    "\n",
    "G = np.zeros((p, n, n))\n",
    "G_tilde = np.zeros((p, n, n))\n",
    "P =  - 1. / n * np.outer(np.ones(n),np.ones(n)) + np.eye(n) \n",
    "r = np.zeros(p)\n",
    "\n",
    "t0 = time.time()\n",
    "for i in range(p):\n",
    "    for j in range(n):\n",
    "        for k in range(n):\n",
    "            G[i,j,k] = np.exp(- np.linalg.norm(data[j] - data[k])**2 / sigma[i]**2)\n",
    "\n",
    "\n",
    "for i in range(p):\n",
    "    G_tilde[i] = P.dot(G[i].dot(P))\n",
    "    r[i] = np.trace(G_tilde[i])\n",
    "print(time.time() -  t0)"
   ]
  },
  {
   "cell_type": "code",
   "execution_count": 9,
   "metadata": {},
   "outputs": [],
   "source": [
    "import sys\n",
    "import numpy as np\n",
    "import cvxpy as cp\n",
    "import time\n",
    "import mosek\n",
    "from collections import OrderedDict"
   ]
  },
  {
   "cell_type": "code",
   "execution_count": 11,
   "metadata": {
    "scrolled": false
   },
   "outputs": [
    {
     "name": "stdout",
     "output_type": "stream",
     "text": [
      "0.013320378204046773\n",
      "0.06009722417582317\n",
      "0.4434217050340594\n"
     ]
    }
   ],
   "source": [
    "A = np.zeros((p , n, n ))\n",
    "b =  np.zeros((p, n ))\n",
    "c =  np.zeros(p)\n",
    "\n",
    "a_obj = a\n",
    "lambda_obj = 1e-4\n",
    "t_obj = 5e-8\n",
    "params = []\n",
    "\n",
    "for i in range(p):\n",
    "    A[i] = 1./ r[i] * G_tilde[i]\n",
    "    params.append((A[i]))\n",
    "    print(np.linalg.norm(A[i]))\n",
    "    \n",
    "params.append((a_obj,lambda_obj,t_obj))"
   ]
  },
  {
   "cell_type": "code",
   "execution_count": 20,
   "metadata": {},
   "outputs": [],
   "source": [
    "# Objective function\n",
    "\n",
    "def f_objective4(beta, x_p, params):\n",
    "    nn = beta.size\n",
    "    a_obj, lambda_obj, t_obj = params[-1]\n",
    "    return 0.25 * beta.dot(beta) -   beta.dot(a_obj) +  0.25 / lambda_obj * t_obj \n",
    "\n",
    "def f_grad4(beta, x_p, params):\n",
    "    nn = beta.size\n",
    "    a_obj, lambda_obj, t_obj = params[-1]\n",
    "    f_grad_vector = 0.5 * beta -  a_obj\n",
    "    return f_grad_vector\n",
    "\n",
    "# Constraints \n",
    "\n",
    "def h_constraint4(beta, params):\n",
    "    m = len(params) - 1\n",
    "    h_con = np.zeros(m)\n",
    "    a_obj, lambda_obj, t_obj = params[-1]\n",
    "#     print(\"beta\",beta,\"m\",m)\n",
    "    for i in range(m):\n",
    "        A = params[i]\n",
    "        h_con[i] =  beta.dot(A.dot(beta)) -  t_obj\n",
    "    return h_con\n",
    "\n",
    "def h_grad4(beta, params):\n",
    "    nn = beta.size\n",
    "    m = len(params) - 1\n",
    "    dh = np.zeros((m, nn))\n",
    "    for i in range(m):\n",
    "        A = params[i]\n",
    "        #print(A,b,c, dh[i])\n",
    "        dh[i] = 2 * A.dot(beta)\n",
    "    #print(1)\n",
    "    return dh"
   ]
  },
  {
   "cell_type": "code",
   "execution_count": 54,
   "metadata": {},
   "outputs": [
    {
     "name": "stdout",
     "output_type": "stream",
     "text": [
      "crit_reached\n",
      "57\n",
      "[197.12718423   4.37123757 148.30888346] -2.2213487328810266e-05 1216.944081544876\n"
     ]
    }
   ],
   "source": [
    "# Fast Projections, eps = 10-8\n",
    "x_0 = np.zeros(n)\n",
    "x_p = np.zeros(n)\n",
    "l_up = 500.\n",
    "epsilon = 1e-8\n",
    "mu = 0.5\n",
    "t_obj = 5e-8\n",
    "L =  0.5 \n",
    "learning_rate = 1 / 2 / L\n",
    "K_max = 2500\n",
    "T = 100\n",
    "t0 = time.time()\n",
    "x_g, l_g, v_g = Ellipsoid(l_up, epsilon, x_0, x_p, \n",
    "                             L, T, AGD_m, \n",
    "                             h_grad4, h_constraint4, \n",
    "                             learning_rate, params, \n",
    "                             f_objective4, f_grad4, \n",
    "                          K_max = K_max, mu = mu, \n",
    "                          G = 0.001)\n",
    "time_ellipsoid = time.time() - t0\n",
    "print(l_g, v_g, time_ellipsoid)"
   ]
  },
  {
   "cell_type": "code",
   "execution_count": 52,
   "metadata": {},
   "outputs": [
    {
     "name": "stdout",
     "output_type": "stream",
     "text": [
      "crit_reached\n",
      "32\n",
      "[208.30688522   5.07345614 142.98871411] -2.2535031338787265e-05 519.7166244983673\n"
     ]
    }
   ],
   "source": [
    "# Fast Projections, eps = 10-7\n",
    "x_0 = np.zeros(n)\n",
    "x_p = np.zeros(n)\n",
    "l_up = 500.\n",
    "epsilon = 1e-7\n",
    "mu = 0.5\n",
    "t_obj = 5e-8\n",
    "L =  0.5\n",
    "learning_rate = 1 / 2 / L\n",
    "K_max = 2500\n",
    "T = 50\n",
    "t0 = time.time()\n",
    "x_g, l_g, v_g = Ellipsoid(l_up, epsilon, x_0, x_p, \n",
    "                             L, T, AGD_m, \n",
    "                             h_grad4, h_constraint4, \n",
    "                             learning_rate, params, \n",
    "                             f_objective4, f_grad4, \n",
    "                             K_max = K_max, mu = mu, \n",
    "                             G = 0.001)\n",
    "time_ellipsoid = time.time() - t0\n",
    "print(l_g, v_g, time_ellipsoid)"
   ]
  },
  {
   "cell_type": "code",
   "execution_count": 53,
   "metadata": {},
   "outputs": [
    {
     "name": "stdout",
     "output_type": "stream",
     "text": [
      "crit_reached\n",
      "6\n",
      "[208.35124946  11.48994366 185.05822165] -1.9156492290675663e-05 83.23813438415527\n"
     ]
    }
   ],
   "source": [
    "# Fast Projections, eps = 10-6\n",
    "x_0 = np.zeros(n)\n",
    "x_p = np.zeros(n)\n",
    "l_up = 500.\n",
    "epsilon = 1e-6\n",
    "mu = 0.5\n",
    "t_obj = 5e-8\n",
    "L =  0.5 \n",
    "learning_rate = 1 / 2 / L\n",
    "K_max = 2500\n",
    "T = 50\n",
    "t0 = time.time()\n",
    "x_g, l_g, v_g = Ellipsoid(l_up, epsilon, x_0, x_p, \n",
    "                             L, T, AGD_m, \n",
    "                             h_grad4, h_constraint4, \n",
    "                             learning_rate, params, \n",
    "                             f_objective4, f_grad4, K_max = K_max, mu = mu, G = 0.001)\n",
    "time_ellipsoid = time.time() - t0\n",
    "print(l_g, v_g, time_ellipsoid)"
   ]
  },
  {
   "cell_type": "markdown",
   "metadata": {},
   "source": [
    "## MOSEK"
   ]
  },
  {
   "cell_type": "code",
   "execution_count": 49,
   "metadata": {},
   "outputs": [],
   "source": [
    "def Solve_Mosek_3(a_obj, lambda_obj, A, tol):\n",
    "    beta = cp.Variable((n))\n",
    "    t = 5e-8\n",
    "    a_cp = cp.Constant(a_obj)\n",
    "    \n",
    "\n",
    "    constraints = [\n",
    "         cp.quad_form(beta, A[0]) -  t <= 0,\n",
    "         cp.quad_form(beta, A[1]) -  t <= 0,\n",
    "         cp.quad_form(beta, A[2]) -  t <= 0\n",
    "    ]\n",
    "    \n",
    "    objective = cp.Minimize(0.25 * cp.norm(beta) ** 2 - beta @ a_cp + 0.25 * t / lambda_obj)\n",
    "\n",
    "    prob = cp.Problem(objective, constraints)\n",
    "    prob.solve(solver = cp.MOSEK, mosek_params = {mosek.dparam.intpnt_co_tol_rel_gap: tol,\n",
    "                              mosek.dparam.intpnt_co_tol_dfeas: tol,\n",
    "                              mosek.dparam.intpnt_co_tol_infeas: tol * 1.0e-2,\n",
    "                              mosek.dparam.intpnt_co_tol_mu_red: tol,\n",
    "                              mosek.dparam.intpnt_co_tol_pfeas: tol,\n",
    "                              })\n",
    "\n",
    "    return prob"
   ]
  },
  {
   "cell_type": "code",
   "execution_count": 40,
   "metadata": {
    "scrolled": true
   },
   "outputs": [
    {
     "name": "stdout",
     "output_type": "stream",
     "text": [
      " dual:  {260: array([195.64394114]), 267: array([8.76804549]), 274: array([145.031198])} value:  -2.2260651924760425e-05 time: 1302.0883221626282\n"
     ]
    }
   ],
   "source": [
    "# MOSEK (small original problem with fixed t, n=5500,m=3, eps = 10-8)\n",
    "tol = 1.0e-8\n",
    "t0 = time.time()\n",
    "prob = Solve_Mosek_3(a_obj, lambda_obj, A, tol)\n",
    "time_mosek = time.time() - t0\n",
    "primal = prob.solution.primal_vars\n",
    "prob_d = prob.solution.dual_vars\n",
    "val = prob.value\n",
    "print( \" dual: \", prob_d, \"value: \", val, \"time:\", time_mosek)"
   ]
  },
  {
   "cell_type": "code",
   "execution_count": 48,
   "metadata": {},
   "outputs": [
    {
     "name": "stdout",
     "output_type": "stream",
     "text": [
      " dual:  {895: array([227.23238466]), 902: array([32.20507064]), 909: array([89.63268749])} value:  -2.4932902869652845e-05 time: 1062.1518244743347\n"
     ]
    }
   ],
   "source": [
    "# MOSEK (small original problem with fixed t, n=5500,m=3, eps = 10-7)\n",
    "tol = 1.0e-7\n",
    "t0 = time.time()\n",
    "prob = Solve_Mosek_3(a_obj, lambda_obj, A, tol)\n",
    "time_mosek = time.time() - t0\n",
    "primal = prob.solution.primal_vars\n",
    "prob_d = prob.solution.dual_vars\n",
    "val = prob.value\n",
    "print( \" dual: \", prob_d, \"value: \", val, \"time:\", time_mosek)"
   ]
  },
  {
   "cell_type": "code",
   "execution_count": 50,
   "metadata": {},
   "outputs": [
    {
     "name": "stdout",
     "output_type": "stream",
     "text": [
      " dual:  {1097: array([320.84964474]), 1104: array([109.63257807]), 1111: array([17.52848446])} value:  -4.994067115891943e-05 time: 1011.5410003662109\n"
     ]
    }
   ],
   "source": [
    "# MOSEK (small original problem with fixed t, n=5500,m=3, eps = 10-6)\n",
    "tol = 1.0e-6\n",
    "t0 = time.time()\n",
    "prob = Solve_Mosek_3(a_obj, lambda_obj, A, tol)\n",
    "time_mosek = time.time() - t0\n",
    "primal = prob.solution.primal_vars\n",
    "prob_d = prob.solution.dual_vars\n",
    "val = prob.value\n",
    "print( \" dual: \", prob_d, \"value: \", val, \"time:\", time_mosek)"
   ]
  }
 ],
 "metadata": {
  "kernelspec": {
   "display_name": "Python 3",
   "language": "python",
   "name": "python3"
  },
  "language_info": {
   "codemirror_mode": {
    "name": "ipython",
    "version": 3
   },
   "file_extension": ".py",
   "mimetype": "text/x-python",
   "name": "python",
   "nbconvert_exporter": "python",
   "pygments_lexer": "ipython3",
   "version": "3.8.5"
  }
 },
 "nbformat": 4,
 "nbformat_minor": 2
}
